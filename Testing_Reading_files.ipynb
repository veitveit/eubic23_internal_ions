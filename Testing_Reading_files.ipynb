{
 "cells": [
  {
   "cell_type": "markdown",
   "id": "2c3c0af5",
   "metadata": {},
   "source": [
    "# Testing reading file formats with psm_utils"
   ]
  },
  {
   "cell_type": "code",
   "execution_count": 1,
   "id": "40f4b658",
   "metadata": {},
   "outputs": [
    {
     "name": "stderr",
     "output_type": "stream",
     "text": [
      "/Users/hmt128/opt/anaconda3/envs/env_eubic/lib/python3.7/site-packages/psims/mzmlb/writer.py:16: UserWarning: hdf5plugin is missing! Only the slower GZIP compression scheme will be available! Please install hdf5plugin to be able to use Blosc.\n",
      "  \"hdf5plugin is missing! Only the slower GZIP compression scheme will be available! \"\n"
     ]
    }
   ],
   "source": [
    "from psm_utils.io import read_file \n",
    "import pandas as pd "
   ]
  },
  {
   "cell_type": "code",
   "execution_count": 2,
   "id": "56c0b670",
   "metadata": {},
   "outputs": [],
   "source": [
    "MSID_FILE = \"/Users/hmt128/Work/eubic/data/PXD038204/D12-D0-peptides_1_1_0.mzid\""
   ]
  },
  {
   "cell_type": "code",
   "execution_count": null,
   "id": "938371d4",
   "metadata": {},
   "outputs": [],
   "source": [
    "psm_list = read_file(MSID_FILE, filetype=\"mzid\")"
   ]
  },
  {
   "cell_type": "code",
   "execution_count": null,
   "id": "3a885cdf",
   "metadata": {},
   "outputs": [],
   "source": [
    "psm_list[0] "
   ]
  },
  {
   "cell_type": "code",
   "execution_count": null,
   "id": "6de036df",
   "metadata": {},
   "outputs": [],
   "source": []
  }
 ],
 "metadata": {
  "kernelspec": {
   "display_name": "Python 3 (ipykernel)",
   "language": "python",
   "name": "python3"
  },
  "language_info": {
   "codemirror_mode": {
    "name": "ipython",
    "version": 3
   },
   "file_extension": ".py",
   "mimetype": "text/x-python",
   "name": "python",
   "nbconvert_exporter": "python",
   "pygments_lexer": "ipython3",
   "version": "3.7.13"
  }
 },
 "nbformat": 4,
 "nbformat_minor": 5
}
